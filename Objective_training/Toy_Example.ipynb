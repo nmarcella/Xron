{
 "cells": [
  {
   "cell_type": "code",
   "execution_count": null,
   "metadata": {},
   "outputs": [],
   "source": [
    "with open('.\\\\Data_pkl\\\\all_rdf.pickle', 'rb') as handle:\n",
    "    all_rdf = pickle.load(handle)\n",
    "    \n",
    "with open('.\\\\Data_pkl\\\\all_exafs.pickle', 'rb') as handle:\n",
    "    all_exafs = pickle.load(handle)"
   ]
  }
 ],
 "metadata": {
  "language_info": {
   "name": "python"
  },
  "orig_nbformat": 4
 },
 "nbformat": 4,
 "nbformat_minor": 2
}
